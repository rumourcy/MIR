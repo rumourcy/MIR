{
 "cells": [
  {
   "cell_type": "code",
   "execution_count": 1,
   "metadata": {},
   "outputs": [],
   "source": [
    "import pandas as pd\n",
    "import numpy as np\n",
    "from sklearn.model_selection import train_test_split\n",
    "from sklearn.metrics import zero_one_loss\n",
    "from sklearn.metrics import classification_report\n",
    "from sklearn.model_selection import RepeatedStratifiedKFold\n",
    "from sklearn.model_selection import cross_val_score\n",
    "fold = RepeatedStratifiedKFold(n_splits=3, n_repeats=3, random_state=42)\n",
    "import matplotlib.pyplot as plt\n",
    "%matplotlib inline"
   ]
  },
  {
   "cell_type": "code",
   "execution_count": 2,
   "metadata": {},
   "outputs": [
    {
     "data": {
      "image/png": "[encoded data removed]",
      "text/plain": [
       "<matplotlib.figure.Figure at 0x7fa164bf1950>"
      ]
     },
     "metadata": {},
     "output_type": "display_data"
    }
   ],
   "source": [
    "df = pd.read_csv('chord_data.csv',header=None)\n",
    "#Make a class for each combination of root and type\n",
    "y = df.iloc[:,0]*2+df.iloc[:,1]\n",
    "n_class = y.unique().size\n",
    "X = df.iloc[:,2:]\n",
    "plt.hist(y,bins=np.linspace(0, n_class-1, num=n_class)-0.5);"
   ]
  },
  {
   "cell_type": "code",
   "execution_count": 4,
   "metadata": {
    "scrolled": true
   },
   "outputs": [
    {
     "name": "stdout",
     "output_type": "stream",
     "text": [
      "==Decision Tree==\n",
      "Cross-validation error = 0.264756 +-0.003807\n"
     ]
    }
   ],
   "source": [
    "print(\"==Decision Tree==\")\n",
    "from sklearn.tree import DecisionTreeClassifier\n",
    "clf = DecisionTreeClassifier()\n",
    "scores = cross_val_score(clf, X, y, cv=fold, scoring=\"accuracy\")\n",
    "print(\"Cross-validation error = %f +-%f\" % (1. - np.mean(scores), np.std(scores)))"
   ]
  },
  {
   "cell_type": "code",
   "execution_count": 6,
   "metadata": {},
   "outputs": [
    {
     "name": "stdout",
     "output_type": "stream",
     "text": [
      "==Multi-layer Perceptron==\n",
      "Cross-validation error = 0.180175 +-0.002623\n"
     ]
    }
   ],
   "source": [
    "print(\"==Multi-layer Perceptron==\")\n",
    "from sklearn.neural_network import MLPClassifier \n",
    "clf = MLPClassifier(hidden_layer_sizes=(24, 24), activation=\"tanh\", learning_rate=\"invscaling\")\n",
    "scores = cross_val_score(clf, X, y, cv=fold, scoring=\"accuracy\")\n",
    "print(\"Cross-validation error = %f +-%f\" % (1. - np.mean(scores), np.std(scores)))"
   ]
  },
  {
   "cell_type": "code",
   "execution_count": 5,
   "metadata": {},
   "outputs": [
    {
     "name": "stdout",
     "output_type": "stream",
     "text": [
      "==Support Vector Machine==\n",
      "Cross-validation error = 0.169384 +-0.002183\n"
     ]
    }
   ],
   "source": [
    "print(\"==Support Vector Machine==\")\n",
    "from sklearn.svm import SVC\n",
    "clf = SVC(kernel=\"rbf\")\n",
    "scores = cross_val_score(clf, X, y, cv=fold, scoring=\"accuracy\")\n",
    "print(\"Cross-validation error = %f +-%f\" % (1. - np.mean(scores), np.std(scores)))"
   ]
  },
  {
   "cell_type": "code",
   "execution_count": 7,
   "metadata": {},
   "outputs": [
    {
     "name": "stdout",
     "output_type": "stream",
     "text": [
      "==K-Means==\n",
      "Cross-validation error = 0.983713 +-0.019053\n"
     ]
    }
   ],
   "source": [
    "print(\"==K-Means==\")\n",
    "from sklearn import cluster\n",
    "clf = cluster.KMeans(n_clusters=n_class, n_init=20, max_iter=1000)\n",
    "scores = cross_val_score(clf, X, y, cv=fold, scoring=\"accuracy\")\n",
    "print(\"Cross-validation error = %f +-%f\" % (1. - np.mean(scores), np.std(scores)))"
   ]
  },
  {
   "cell_type": "code",
   "execution_count": null,
   "metadata": {},
   "outputs": [],
   "source": []
  }
 ],
 "metadata": {
  "kernelspec": {
   "display_name": "Python 2",
   "language": "python",
   "name": "python2"
  },
  "language_info": {
   "codemirror_mode": {
    "name": "ipython",
    "version": 2
   },
   "file_extension": ".py",
   "mimetype": "text/x-python",
   "name": "python",
   "nbconvert_exporter": "python",
   "pygments_lexer": "ipython2",
   "version": "2.7.14"
  }
 },
 "nbformat": 4,
 "nbformat_minor": 2
}
